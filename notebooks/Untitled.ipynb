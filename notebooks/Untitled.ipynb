{
 "cells": [
  {
   "cell_type": "code",
   "execution_count": 1,
   "metadata": {},
   "outputs": [],
   "source": [
    "from notebook.auth import passwd"
   ]
  },
  {
   "cell_type": "code",
   "execution_count": 2,
   "metadata": {},
   "outputs": [
    {
     "name": "stdout",
     "output_type": "stream",
     "text": [
      "Enter password: ········\n",
      "Verify password: ········\n"
     ]
    },
    {
     "data": {
      "text/plain": [
       "'sha1:dd9c3eec230c:867942c0e532050e3e3def134cd9c18245508e25'"
      ]
     },
     "execution_count": 2,
     "metadata": {},
     "output_type": "execute_result"
    }
   ],
   "source": [
    "passwd()"
   ]
  },
  {
   "cell_type": "code",
   "execution_count": 3,
   "metadata": {},
   "outputs": [
    {
     "data": {
      "text/html": [
       "<iframe src=https://www.quantopian.com/posts/olmar-implementation-fixed-bug width=1100 height=350></iframe>"
      ],
      "text/plain": [
       "<IPython.core.display.HTML object>"
      ]
     },
     "execution_count": 3,
     "metadata": {},
     "output_type": "execute_result"
    }
   ],
   "source": [
    "from IPython.display import HTML\n",
    "\n",
    "HTML(\"<iframe src=https://www.quantopian.com/posts/olmar-implementation-fixed-bug width=1100 height=350></iframe>\")"
   ]
  },
  {
   "cell_type": "code",
   "execution_count": 1,
   "metadata": {},
   "outputs": [
    {
     "ename": "SyntaxError",
     "evalue": "invalid syntax (adjustments.py, line 639)",
     "output_type": "error",
     "traceback": [
      "Traceback \u001b[0;36m(most recent call last)\u001b[0m:\n",
      "  File \u001b[1;32m\"/usr/local/lib/python3.6/site-packages/IPython/core/interactiveshell.py\"\u001b[0m, line \u001b[1;32m3343\u001b[0m, in \u001b[1;35mrun_code\u001b[0m\n    exec(code_obj, self.user_global_ns, self.user_ns)\n",
      "  File \u001b[1;32m\"<ipython-input-1-ec5f8b95d5fd>\"\u001b[0m, line \u001b[1;32m1\u001b[0m, in \u001b[1;35m<module>\u001b[0m\n    import zipline\n",
      "  File \u001b[1;32m\"/zipline/zipline/__init__.py\"\u001b[0m, line \u001b[1;32m29\u001b[0m, in \u001b[1;35m<module>\u001b[0m\n    from .utils.run_algo import run_algorithm\n",
      "  File \u001b[1;32m\"/zipline/zipline/utils/run_algo.py\"\u001b[0m, line \u001b[1;32m25\u001b[0m, in \u001b[1;35m<module>\u001b[0m\n    from zipline.data import bundles\n",
      "  File \u001b[1;32m\"/zipline/zipline/data/bundles/__init__.py\"\u001b[0m, line \u001b[1;32m2\u001b[0m, in \u001b[1;35m<module>\u001b[0m\n    from . import quandl  # noqa\n",
      "  File \u001b[1;32m\"/zipline/zipline/data/bundles/quandl.py\"\u001b[0m, line \u001b[1;32m16\u001b[0m, in \u001b[1;35m<module>\u001b[0m\n    from . import core as bundles\n",
      "\u001b[0;36m  File \u001b[0;32m\"/zipline/zipline/data/bundles/core.py\"\u001b[0;36m, line \u001b[0;32m14\u001b[0;36m, in \u001b[0;35m<module>\u001b[0;36m\u001b[0m\n\u001b[0;31m    from ..adjustments import SQLiteAdjustmentReader, SQLiteAdjustmentWriter\u001b[0m\n",
      "\u001b[0;36m  File \u001b[0;32m\"/zipline/zipline/data/adjustments.py\"\u001b[0;36m, line \u001b[0;32m639\u001b[0m\n\u001b[0;31m    stock_dividends=None),\u001b[0m\n\u001b[0m                         ^\u001b[0m\n\u001b[0;31mSyntaxError\u001b[0m\u001b[0;31m:\u001b[0m invalid syntax\n"
     ]
    }
   ],
   "source": [
    "import zipline\n",
    "\n",
    "STOCKS = ['AMD', 'CERN', 'COST', 'DELL', 'GPS', 'INTC', 'MMM']\n",
    "\n",
    "class OLMAR(zipline.TradingAlgorithm):\n",
    "    def initialize(self, eps=1, window_length=5):\n",
    "        self.stocks = STOCKS\n",
    "        self.m = len(self.stocks)\n",
    "        self.price = {}\n",
    "        self.b_t = np.ones(self.m) / self.m\n",
    "        self.last_desired_port = np.ones(self.m) / self.m\n",
    "        self.eps = eps\n",
    "        self.init = True\n",
    "        self.days = 0\n",
    "        self.window_length = window_length\n",
    "        self.add_transform(zipline.transforms.MovingAverage, 'mavg', ['price'],\n",
    "                           window_length=window_length)\n",
    "        \n",
    "        self.set_slippage(zipline.finance.slippage.FixedSlippage())\n",
    "        self.set_commission(zipline.finance.commission.PerShare(cost=0))\n",
    "\n",
    "    def handle_data(self, data):\n",
    "        self.days += 1\n",
    "        if self.days < self.window_length:\n",
    "           return\n",
    "        \n",
    "        if self.init:\n",
    "            self.rebalance_portfolio(data, self.b_t)\n",
    "            self.init = False\n",
    "            return\n",
    "\n",
    "        m = self.m\n",
    "\n",
    "        x_tilde = np.zeros(m)\n",
    "        b = np.zeros(m)\n",
    "\n",
    "        # find relative moving average price for each security\n",
    "        for i, stock in enumerate(self.stocks):\n",
    "            price = data[stock].price\n",
    "            # Relative mean deviation\n",
    "            x_tilde[i] = data[stock]['mavg']['price'] / price\n",
    "\n",
    "        ###########################\n",
    "        # Inside of OLMAR (algo 2)\n",
    "        x_bar = x_tilde.mean()\n",
    "        \n",
    "        # market relative deviation\n",
    "        mark_rel_dev = x_tilde - x_bar\n",
    "\n",
    "        # Expected return with current portfolio\n",
    "        exp_return = np.dot(self.b_t, x_tilde)\n",
    "        weight = self.eps - exp_return\n",
    "\n",
    "        variability = (np.linalg.norm(mark_rel_dev))**2\n",
    "\n",
    "        if variability == 0.0:\n",
    "            step_size = 0 # no portolio update\n",
    "        else:\n",
    "            step_size = max(0, weight/variability)\n",
    "\n",
    "        b = self.b_t + step_size*mark_rel_dev\n",
    "        b_norm = simplex_projection(b)\n",
    "\n",
    "        #print b_norm\n",
    "        self.rebalance_portfolio(data, b_norm)\n",
    "        \n",
    "        # Predicted return with new portfolio\n",
    "        pred_return = np.dot(b_norm, x_tilde)\n",
    "\n",
    "        # update portfolio\n",
    "        self.b_t = b_norm\n",
    "\n",
    "    def rebalance_portfolio(self, data, desired_port):\n",
    "        #rebalance portfolio\n",
    "        desired_amount = np.zeros_like(desired_port)\n",
    "        current_amount = np.zeros_like(desired_port)\n",
    "        prices = np.zeros_like(desired_port)\n",
    "        \n",
    "        if self.init:\n",
    "            positions_value = self.portfolio.starting_cash\n",
    "        else:\n",
    "            positions_value = self.portfolio.positions_value + self.portfolio.cash\n",
    "        \n",
    "        for i, stock in enumerate(self.stocks):\n",
    "            current_amount[i] = self.portfolio.positions[stock].amount\n",
    "            prices[i] = data[stock].price\n",
    "        \n",
    "        desired_amount = np.round(desired_port * positions_value / prices)\n",
    "        diff_amount = desired_amount - current_amount\n",
    "\n",
    "        for i, stock in enumerate(self.stocks):\n",
    "            self.order(stock, diff_amount[i]) #order_stock\n",
    "\n",
    "def simplex_projection(v, b=1):\n",
    "    \"\"\"Projection vectors to the simplex domain\n",
    "\n",
    "    Implemented according to the paper: Efficient projections onto the\n",
    "    l1-ball for learning in high dimensions, John Duchi, et al. ICML 2008.\n",
    "    Implementation Time: 2011 June 17 by Bin@libin AT pmail.ntu.edu.sg\n",
    "    Optimization Problem: min_{w}\\| w - v \\|_{2}^{2}\n",
    "    s.t. sum_{i=1}^{m}=z, w_{i}\\geq 0\n",
    "\n",
    "    Input: A vector v \\in R^{m}, and a scalar z > 0 (default=1)\n",
    "    Output: Projection vector w\n",
    "\n",
    "    :Example:\n",
    "    >>> proj = simplex_projection([.4 ,.3, -.4, .5])\n",
    "    >>> print proj\n",
    "    array([ 0.33333333, 0.23333333, 0. , 0.43333333])\n",
    "    >>> print proj.sum()\n",
    "    1.0\n",
    "\n",
    "    Original matlab implementation: John Duchi (jduchi@cs.berkeley.edu)\n",
    "    Python-port: Copyright 2012 by Thomas Wiecki (thomas.wiecki@gmail.com).\n",
    "    \"\"\"\n",
    "\n",
    "    v = np.asarray(v)\n",
    "    p = len(v)\n",
    "\n",
    "    # Sort v into u in descending order\n",
    "    v = (v > 0) * v\n",
    "    u = np.sort(v)[::-1]\n",
    "    sv = np.cumsum(u)\n",
    "\n",
    "    rho = np.where(u > (sv - b) / np.arange(1, p+1))[0][-1]\n",
    "    theta = np.max([0, (sv[rho] - b) / (rho+1)])\n",
    "    w = (v - theta)\n",
    "    w[w<0] = 0\n",
    "    return w\n"
   ]
  },
  {
   "cell_type": "code",
   "execution_count": 2,
   "metadata": {},
   "outputs": [
    {
     "ename": "SyntaxError",
     "evalue": "invalid syntax (adjustments.py, line 639)",
     "output_type": "error",
     "traceback": [
      "Traceback \u001b[0;36m(most recent call last)\u001b[0m:\n",
      "  File \u001b[1;32m\"/usr/local/lib/python3.6/site-packages/IPython/core/interactiveshell.py\"\u001b[0m, line \u001b[1;32m3343\u001b[0m, in \u001b[1;35mrun_code\u001b[0m\n    exec(code_obj, self.user_global_ns, self.user_ns)\n",
      "  File \u001b[1;32m\"<ipython-input-2-f17d1e40d0b7>\"\u001b[0m, line \u001b[1;32m1\u001b[0m, in \u001b[1;35m<module>\u001b[0m\n    import zipline\n",
      "  File \u001b[1;32m\"/zipline/zipline/__init__.py\"\u001b[0m, line \u001b[1;32m29\u001b[0m, in \u001b[1;35m<module>\u001b[0m\n    from .utils.run_algo import run_algorithm\n",
      "  File \u001b[1;32m\"/zipline/zipline/utils/run_algo.py\"\u001b[0m, line \u001b[1;32m25\u001b[0m, in \u001b[1;35m<module>\u001b[0m\n    from zipline.data import bundles\n",
      "  File \u001b[1;32m\"/zipline/zipline/data/bundles/__init__.py\"\u001b[0m, line \u001b[1;32m2\u001b[0m, in \u001b[1;35m<module>\u001b[0m\n    from . import quandl  # noqa\n",
      "  File \u001b[1;32m\"/zipline/zipline/data/bundles/quandl.py\"\u001b[0m, line \u001b[1;32m16\u001b[0m, in \u001b[1;35m<module>\u001b[0m\n    from . import core as bundles\n",
      "\u001b[0;36m  File \u001b[0;32m\"/zipline/zipline/data/bundles/core.py\"\u001b[0;36m, line \u001b[0;32m14\u001b[0;36m, in \u001b[0;35m<module>\u001b[0;36m\u001b[0m\n\u001b[0;31m    from ..adjustments import SQLiteAdjustmentReader, SQLiteAdjustmentWriter\u001b[0m\n",
      "\u001b[0;36m  File \u001b[0;32m\"/zipline/zipline/data/adjustments.py\"\u001b[0;36m, line \u001b[0;32m639\u001b[0m\n\u001b[0;31m    stock_dividends=None),\u001b[0m\n\u001b[0m                         ^\u001b[0m\n\u001b[0;31mSyntaxError\u001b[0m\u001b[0;31m:\u001b[0m invalid syntax\n"
     ]
    }
   ],
   "source": [
    "import zipline\n",
    "\n",
    "class OLMARb(zipline.TradingAlgorithm):\n",
    "    def initialize(self, eps=1, window_length=5):\n",
    "        # How aggresive should we rebalance the portfolio\n",
    "        self.eps = eps\n",
    "        # How many days to compute the moving average over\n",
    "        self.window_length = window_length\n",
    "        # Include mavg transform into simulation. Makes it available\n",
    "        # in handle_data() below.\n",
    "        self.add_transform(zipline.transforms.MovingAverage, 'mavg', ['price'],\n",
    "                           window_length=window_length)\n",
    "\n",
    "    def handle_data(self, data):\n",
    "        # Calculate how much each price diverged from its moving average\n",
    "        for stock in data:\n",
    "            deviation_from_mavg[stock] = data[stock].price - data[stock].mavg\n",
    "        \n",
    "        # Calculate new portfolio allocation\n",
    "        desired_portfolio = current_portfolio + self.eps * deviation_from_mavg\n",
    "        \n",
    "        # Rebalance portfolio\n",
    "        self.rebalance_portfolio(desired_portfolio)"
   ]
  },
  {
   "cell_type": "code",
   "execution_count": 3,
   "metadata": {},
   "outputs": [
    {
     "ename": "SyntaxError",
     "evalue": "invalid syntax (adjustments.py, line 639)",
     "output_type": "error",
     "traceback": [
      "Traceback \u001b[0;36m(most recent call last)\u001b[0m:\n",
      "  File \u001b[1;32m\"/usr/local/lib/python3.6/site-packages/IPython/core/interactiveshell.py\"\u001b[0m, line \u001b[1;32m3343\u001b[0m, in \u001b[1;35mrun_code\u001b[0m\n    exec(code_obj, self.user_global_ns, self.user_ns)\n",
      "  File \u001b[1;32m\"<ipython-input-3-2b8d83640dae>\"\u001b[0m, line \u001b[1;32m2\u001b[0m, in \u001b[1;35m<module>\u001b[0m\n    import zipline\n",
      "  File \u001b[1;32m\"/zipline/zipline/__init__.py\"\u001b[0m, line \u001b[1;32m29\u001b[0m, in \u001b[1;35m<module>\u001b[0m\n    from .utils.run_algo import run_algorithm\n",
      "  File \u001b[1;32m\"/zipline/zipline/utils/run_algo.py\"\u001b[0m, line \u001b[1;32m25\u001b[0m, in \u001b[1;35m<module>\u001b[0m\n    from zipline.data import bundles\n",
      "  File \u001b[1;32m\"/zipline/zipline/data/bundles/__init__.py\"\u001b[0m, line \u001b[1;32m2\u001b[0m, in \u001b[1;35m<module>\u001b[0m\n    from . import quandl  # noqa\n",
      "  File \u001b[1;32m\"/zipline/zipline/data/bundles/quandl.py\"\u001b[0m, line \u001b[1;32m16\u001b[0m, in \u001b[1;35m<module>\u001b[0m\n    from . import core as bundles\n",
      "\u001b[0;36m  File \u001b[0;32m\"/zipline/zipline/data/bundles/core.py\"\u001b[0;36m, line \u001b[0;32m14\u001b[0;36m, in \u001b[0;35m<module>\u001b[0;36m\u001b[0m\n\u001b[0;31m    from ..adjustments import SQLiteAdjustmentReader, SQLiteAdjustmentWriter\u001b[0m\n",
      "\u001b[0;36m  File \u001b[0;32m\"/zipline/zipline/data/adjustments.py\"\u001b[0;36m, line \u001b[0;32m639\u001b[0m\n\u001b[0;31m    stock_dividends=None),\u001b[0m\n\u001b[0m                         ^\u001b[0m\n\u001b[0;31mSyntaxError\u001b[0m\u001b[0;31m:\u001b[0m invalid syntax\n"
     ]
    }
   ],
   "source": [
    "import datetime\n",
    "import zipline\n",
    "start = datetime.datetime(2001, 8, 1)\n",
    "end = datetime.datetime(2013, 2, 1)\n",
    "data = zipline.utils.load_from_yahoo(stocks=STOCKS, indexes={}, start=start, end=end)\n"
   ]
  },
  {
   "cell_type": "code",
   "execution_count": 4,
   "metadata": {},
   "outputs": [
    {
     "ename": "NameError",
     "evalue": "name 'data' is not defined",
     "output_type": "error",
     "traceback": [
      "\u001b[0;31m---------------------------------------------------------------------------\u001b[0m",
      "\u001b[0;31mNameError\u001b[0m                                 Traceback (most recent call last)",
      "\u001b[0;32m<ipython-input-4-304fa4ce4ebd>\u001b[0m in \u001b[0;36m<module>\u001b[0;34m\u001b[0m\n\u001b[0;32m----> 1\u001b[0;31m \u001b[0mdata\u001b[0m\u001b[0;34m.\u001b[0m\u001b[0mhead\u001b[0m\u001b[0;34m(\u001b[0m\u001b[0;34m)\u001b[0m\u001b[0;34m\u001b[0m\u001b[0;34m\u001b[0m\u001b[0m\n\u001b[0m",
      "\u001b[0;31mNameError\u001b[0m: name 'data' is not defined"
     ]
    }
   ],
   "source": [
    "data.head()\n"
   ]
  },
  {
   "cell_type": "code",
   "execution_count": 5,
   "metadata": {},
   "outputs": [],
   "source": [
    "def run_olmar(eps=1, window_length=5):\n",
    "    olmar = OLMAR(eps=eps, window_length=window_length)\n",
    "    results = olmar.run(data)\n",
    "    return results.portfolio_value"
   ]
  },
  {
   "cell_type": "code",
   "execution_count": null,
   "metadata": {},
   "outputs": [],
   "source": [
    "results_eps2 = run_olmar(eps=2)\n",
    "results_eps2.plot()\n",
    "results_eps1 = run_olmar(eps=1)\n",
    "results_eps2.plot()\n",
    "results_eps1.plot(c='g')"
   ]
  }
 ],
 "metadata": {
  "kernelspec": {
   "display_name": "Python 3",
   "language": "python",
   "name": "python3"
  }
 },
 "nbformat": 4,
 "nbformat_minor": 4
}
